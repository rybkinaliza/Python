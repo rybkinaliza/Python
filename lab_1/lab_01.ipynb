{
 "cells": [
  {
   "cell_type": "code",
   "execution_count": null,
   "metadata": {},
   "outputs": [],
   "source": [
    "transl_subseq = []\n",
    "dictionary = {-1:' ', 0:'а', 1:'б', 2:'в', 3:'г', 4:'д', 5:'е', 6:'ё', 7:'ж', 8:'з', 9:'и', 10:'й', \n",
    "             11:'к', 12:'л', 13:'м', 14:'н', 15:'о', 16:'п', 17:'р', 18:'с', 19:'т', 20:'у', 21:'ф',\n",
    "             22:'х', 23:'ц', 24:'ч', 25:'ш', 26:'щ', 27:'ъ', 28:'ы', 29:'ь', 30:'э', 31:'ю', 32:'я'}\n",
    "subseq = input()\n",
    "while subseq != \"End\":\n",
    "    transl_subseq.append(dictionary[int(subseq)])\n",
    "    subseq = input()\n",
    "print(''.join(transl_subseq))"
   ]
  },
  {
   "cell_type": "code",
   "execution_count": null,
   "metadata": {},
   "outputs": [],
   "source": []
  }
 ],
 "metadata": {
  "kernelspec": {
   "display_name": "Python 3",
   "language": "python",
   "name": "python3"
  },
  "language_info": {
   "codemirror_mode": {
    "name": "ipython",
    "version": 3
   },
   "file_extension": ".py",
   "mimetype": "text/x-python",
   "name": "python",
   "nbconvert_exporter": "python",
   "pygments_lexer": "ipython3",
   "version": "3.7.3"
  }
 },
 "nbformat": 4,
 "nbformat_minor": 2
}
