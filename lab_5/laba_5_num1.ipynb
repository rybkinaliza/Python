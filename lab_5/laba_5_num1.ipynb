{
 "cells": [
  {
   "cell_type": "code",
   "execution_count": 9,
   "metadata": {},
   "outputs": [
    {
     "name": "stdout",
     "output_type": "stream",
     "text": [
      "True\n"
     ]
    }
   ],
   "source": [
    "class Human:\n",
    "    def __init__(self, name, sex, year_of_birth):\n",
    "        self.name = str(name)\n",
    "        self.sex = str(sex)\n",
    "        self.year_of_birth = int(year_of_birth)\n",
    "\n",
    "class Movie:\n",
    "    def __init__(self, title, director, year, country, duration, age_limit):\n",
    "        self.title = str(title)\n",
    "        self.director = str(director)\n",
    "        self.year = int(year)\n",
    "        self.country = str(country)\n",
    "        self.duration = int(duration)\n",
    "        self.age_limit = int(age_limit)\n",
    "        \n",
    "    def is_allowed(self, other):\n",
    "        if (2021 - other.year_of_birth) >= self.age_limit:\n",
    "            return 'True'\n",
    "        else:\n",
    "            return 'False'\n",
    "            \n",
    "class Cartoon(Movie):\n",
    "    def __init__(self, title, director, year, country, duration, age_limit, technique):\n",
    "        super().__init__(title, director, year, country, duration, age_limit)\n",
    "        self.technique = technique\n",
    "        \n",
    "class Anime(Cartoon):\n",
    "    def __init__(self, title, director, year, country, duration, age_limit, technique):\n",
    "        super().__init__(name = name, director = director, year = year, \n",
    "                         country = 'Japan', duration = duration, age_rating = age_rating, technique = 'drawn')\n",
    "        \n",
    "movie = Movie(\n",
    "  title=\"Dune\", director=\"Denis Villeneuve\", year=2021,\n",
    "  country=\"USA\", duration=155, age_limit=13\n",
    ")\n",
    "human = Human(name=\"Neo\", sex=\"M\", year_of_birth=1964)\n",
    "\n",
    "print(movie.is_allowed(human))"
   ]
  },
  {
   "cell_type": "code",
   "execution_count": null,
   "metadata": {},
   "outputs": [],
   "source": []
  }
 ],
 "metadata": {
  "kernelspec": {
   "display_name": "Python 3",
   "language": "python",
   "name": "python3"
  },
  "language_info": {
   "codemirror_mode": {
    "name": "ipython",
    "version": 3
   },
   "file_extension": ".py",
   "mimetype": "text/x-python",
   "name": "python",
   "nbconvert_exporter": "python",
   "pygments_lexer": "ipython3",
   "version": "3.7.3"
  }
 },
 "nbformat": 4,
 "nbformat_minor": 2
}
