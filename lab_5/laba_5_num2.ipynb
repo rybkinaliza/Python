{
 "cells": [
  {
   "cell_type": "code",
   "execution_count": 8,
   "metadata": {},
   "outputs": [],
   "source": [
    "import random"
   ]
  },
  {
   "cell_type": "code",
   "execution_count": 29,
   "metadata": {},
   "outputs": [
    {
     "ename": "ValueError",
     "evalue": "",
     "output_type": "error",
     "traceback": [
      "\u001b[1;31m---------------------------------------------------------------------------\u001b[0m",
      "\u001b[1;31mValueError\u001b[0m                                Traceback (most recent call last)",
      "\u001b[1;32m<ipython-input-29-c050ea2d8412>\u001b[0m in \u001b[0;36m<module>\u001b[1;34m\u001b[0m\n\u001b[0;32m     54\u001b[0m \u001b[1;33m\u001b[0m\u001b[0m\n\u001b[0;32m     55\u001b[0m \u001b[0mmanicurist\u001b[0m\u001b[1;33m.\u001b[0m\u001b[0mdo_job\u001b[0m\u001b[1;33m(\u001b[0m\u001b[0mneo\u001b[0m\u001b[1;33m)\u001b[0m\u001b[1;33m\u001b[0m\u001b[1;33m\u001b[0m\u001b[0m\n\u001b[1;32m---> 56\u001b[1;33m \u001b[0mbarber\u001b[0m\u001b[1;33m.\u001b[0m\u001b[0mdo_job\u001b[0m\u001b[1;33m(\u001b[0m\u001b[0mneo\u001b[0m\u001b[1;33m)\u001b[0m\u001b[1;33m\u001b[0m\u001b[1;33m\u001b[0m\u001b[0m\n\u001b[0m\u001b[0;32m     57\u001b[0m \u001b[0mbarber\u001b[0m\u001b[1;33m.\u001b[0m\u001b[0mdo_job\u001b[0m\u001b[1;33m(\u001b[0m\u001b[0mtrinity\u001b[0m\u001b[1;33m)\u001b[0m\u001b[1;33m\u001b[0m\u001b[1;33m\u001b[0m\u001b[0m\n\u001b[0;32m     58\u001b[0m \u001b[1;33m\u001b[0m\u001b[0m\n",
      "\u001b[1;32m<ipython-input-29-c050ea2d8412>\u001b[0m in \u001b[0;36mdo_job\u001b[1;34m(self, other)\u001b[0m\n\u001b[0;32m     45\u001b[0m                 \u001b[0mother\u001b[0m\u001b[1;33m.\u001b[0m\u001b[0mhair_length\u001b[0m \u001b[1;33m=\u001b[0m \u001b[0mother\u001b[0m\u001b[1;33m.\u001b[0m\u001b[0mhair_length\u001b[0m \u001b[1;33m-\u001b[0m \u001b[1;36m1\u001b[0m\u001b[1;33m\u001b[0m\u001b[1;33m\u001b[0m\u001b[0m\n\u001b[0;32m     46\u001b[0m         \u001b[1;32melse\u001b[0m\u001b[1;33m:\u001b[0m\u001b[1;33m\u001b[0m\u001b[1;33m\u001b[0m\u001b[0m\n\u001b[1;32m---> 47\u001b[1;33m             \u001b[1;32mraise\u001b[0m \u001b[0mValueError\u001b[0m\u001b[1;33m\u001b[0m\u001b[1;33m\u001b[0m\u001b[0m\n\u001b[0m\u001b[0;32m     48\u001b[0m \u001b[1;33m\u001b[0m\u001b[0m\n\u001b[0;32m     49\u001b[0m \u001b[0mneo\u001b[0m \u001b[1;33m=\u001b[0m \u001b[0mHuman\u001b[0m\u001b[1;33m(\u001b[0m\u001b[0mname\u001b[0m\u001b[1;33m=\u001b[0m\u001b[1;34m\"Neo\"\u001b[0m\u001b[1;33m,\u001b[0m \u001b[0msex\u001b[0m\u001b[1;33m=\u001b[0m\u001b[1;34m\"M\"\u001b[0m\u001b[1;33m,\u001b[0m \u001b[0myear_of_birth\u001b[0m\u001b[1;33m=\u001b[0m\u001b[1;36m1964\u001b[0m\u001b[1;33m,\u001b[0m \u001b[0mhair_length\u001b[0m\u001b[1;33m=\u001b[0m\u001b[1;36m10\u001b[0m\u001b[1;33m,\u001b[0m \u001b[0mnail_length\u001b[0m\u001b[1;33m=\u001b[0m\u001b[1;36m2\u001b[0m\u001b[1;33m)\u001b[0m\u001b[1;33m\u001b[0m\u001b[1;33m\u001b[0m\u001b[0m\n",
      "\u001b[1;31mValueError\u001b[0m: "
     ]
    }
   ],
   "source": [
    "class Human:\n",
    "    def __init__(self, name, sex, year_of_birth, hair_length, nail_length, nail_color = 'бесцветные'):\n",
    "        self.name = str(name)\n",
    "        self.sex = str(sex)\n",
    "        self.year_of_birth = int(year_of_birth)\n",
    "        self.hair_length = int(hair_length)\n",
    "        self.nail_length = int(nail_length)\n",
    "        self.nail_color = str(nail_color)\n",
    "\n",
    "    def __str__(self):\n",
    "        return f'Меня зовут {self.name}, теперь у меня волосы длины {self.hair_length} и {self.nail_color} ногти длины {self.nail_length}'  \n",
    "        \n",
    "class Stylist:\n",
    "    def __init__(self, name, sex, year_of_birth):\n",
    "        self.name = str(name)\n",
    "        self.sex = str(sex)\n",
    "        self.year_of_birth = int(year_of_birth)\n",
    "\n",
    "nail_color = ['красные', 'фиолетовые', 'зелёные']\n",
    "        \n",
    "class Manicurist(Stylist):\n",
    "    def __init__(self, name, sex, year_of_birth):\n",
    "        super().__init__(name, sex, year_of_birth)\n",
    "        \n",
    "    def do_job(self, other):\n",
    "        if other.nail_length > 1:\n",
    "            other.nail_length = other.nail_length - 1\n",
    "        other.nail_color = random.choice(nail_color)\n",
    "        \n",
    "class Hairdresser(Stylist):\n",
    "    def __init__(self, name, sex, year_of_birth):\n",
    "        super().__init__(name, sex, year_of_birth)\n",
    "        \n",
    "    def do_job(self, other):\n",
    "        if other.hair_length > 1:\n",
    "            other.hair_length = other.hair_length - 1\n",
    "\n",
    "class Barber(Stylist):\n",
    "    def __init__(self, name, sex, year_of_birth):\n",
    "        super().__init__(name, sex, year_of_birth)\n",
    "        \n",
    "    def do_job(self, other):\n",
    "        if other.sex == 'М':\n",
    "            if other.hair_length > 1:\n",
    "                other.hair_length = other.hair_length - 1\n",
    "        else:\n",
    "            raise ValueError\n",
    "            \n",
    "neo = Human(name=\"Neo\", sex=\"M\", year_of_birth=1964, hair_length=10, nail_length=2)\n",
    "trinity = Human(name=\"Trinity\", sex=\"F\", year_of_birth=1967, hair_length=30, nail_length=5)\n",
    "\n",
    "manicurist = Manicurist(name=\"Samara\", sex=\"F\", year_of_birth=1992)\n",
    "barber = Barber(name=\"Bob\", sex=\"M\", year_of_birth=1987)\n",
    "\n",
    "manicurist.do_job(neo)\n",
    "barber.do_job(neo)\n",
    "barber.do_job(trinity)\n",
    "\n",
    "print(neo)\n",
    "print(trinity)"
   ]
  },
  {
   "cell_type": "code",
   "execution_count": null,
   "metadata": {},
   "outputs": [],
   "source": []
  },
  {
   "cell_type": "code",
   "execution_count": null,
   "metadata": {},
   "outputs": [],
   "source": []
  }
 ],
 "metadata": {
  "kernelspec": {
   "display_name": "Python 3",
   "language": "python",
   "name": "python3"
  },
  "language_info": {
   "codemirror_mode": {
    "name": "ipython",
    "version": 3
   },
   "file_extension": ".py",
   "mimetype": "text/x-python",
   "name": "python",
   "nbconvert_exporter": "python",
   "pygments_lexer": "ipython3",
   "version": "3.7.3"
  }
 },
 "nbformat": 4,
 "nbformat_minor": 2
}
