{
 "cells": [
  {
   "cell_type": "code",
   "execution_count": 2,
   "metadata": {
    "id": "SSTx2LdmNR-8"
   },
   "outputs": [],
   "source": [
    "import sqlite3\n",
    "from datetime import date"
   ]
  },
  {
   "cell_type": "code",
   "execution_count": 3,
   "metadata": {
    "id": "NCPuFEKAP50c"
   },
   "outputs": [],
   "source": [
    "DB_NAME = \"biblio\""
   ]
  },
  {
   "cell_type": "code",
   "execution_count": 4,
   "metadata": {
    "id": "yN8-wrO9P8QK"
   },
   "outputs": [],
   "source": [
    "connection = sqlite3.connect(DB_NAME)"
   ]
  },
  {
   "cell_type": "code",
   "execution_count": 5,
   "metadata": {
    "id": "kNkI_EU5QCBT"
   },
   "outputs": [],
   "source": [
    "cursor = connection.cursor()"
   ]
  },
  {
   "cell_type": "code",
   "execution_count": 6,
   "metadata": {
    "id": "RSy1Wt2WQEC8"
   },
   "outputs": [],
   "source": [
    "connection = sqlite3.connect(DB_NAME)\n",
    "cursor = connection.cursor()\n",
    "\n",
    "cursor.execute(\n",
    "    ''' DROP TABLE IF EXISTS Book '''\n",
    ")\n",
    "\n",
    "cursor.execute(\n",
    "    '''\n",
    "    CREATE TABLE Book(\n",
    "        id INT PRIMARY KEY NOT NULL,\n",
    "        title TEXT,\n",
    "        author TEXT,\n",
    "        publish_year INT\n",
    "    )\n",
    "    '''\n",
    ")\n",
    "\n",
    "cursor.execute(\n",
    "    '''\n",
    "    INSERT INTO Book VALUES\n",
    "    (1, 'Harry Potter and the Philosopher''s Stone', 'J. K. Rowling', 1997),\n",
    "    (2, 'Методы решения задач в общем курсе физики, Механика', 'Корявов В.П.', 2007),\n",
    "    (3, 'Batman: Gotham by Gaslight', 'Brian Augustyn, Mike Mignola', 1989),\n",
    "    (4, 'Мёртвые души', 'Н. В. Гоголь', 1842),\n",
    "    (5, 'The Running Man', 'Richard Bachman', 1982)\n",
    "    '''\n",
    ")\n",
    "\n",
    "connection.commit()"
   ]
  },
  {
   "cell_type": "code",
   "execution_count": 7,
   "metadata": {
    "colab": {
     "base_uri": "https://localhost:8080/"
    },
    "id": "eP4zJI4LQXV7",
    "outputId": "c2b25594-7cf0-4f8a-d18e-1e06137a84a5"
   },
   "outputs": [
    {
     "data": {
      "text/plain": [
       "<sqlite3.Cursor at 0x21847c40a40>"
      ]
     },
     "execution_count": 7,
     "metadata": {},
     "output_type": "execute_result"
    }
   ],
   "source": [
    "cursor.execute(\n",
    "    ''' DROP TABLE IF EXISTS Reader '''\n",
    ")\n",
    "\n",
    "cursor.execute(\n",
    "    '''\n",
    "    CREATE TABLE Reader(\n",
    "        id INT PRIMARY KEY NOT NULL,\n",
    "        name TEXT\n",
    "    )\n",
    "    '''\n",
    ")\n",
    "\n",
    "cursor.execute(\n",
    "    '''\n",
    "    INSERT INTO Reader VALUES\n",
    "    (1, 'V.V. Petrovich'),\n",
    "    (2, 'Alexanderr'),\n",
    "    (3, 'Arkadiy Svidrigaylov'),\n",
    "    (4, 'Vitalya'),\n",
    "    (5, 'Noname')\n",
    "    '''\n",
    ")"
   ]
  },
  {
   "cell_type": "code",
   "execution_count": 8,
   "metadata": {
    "colab": {
     "base_uri": "https://localhost:8080/"
    },
    "id": "LJrrnxwMQxke",
    "outputId": "2aac50de-f612-4b52-82fe-8edd65fd29dc"
   },
   "outputs": [
    {
     "data": {
      "text/plain": [
       "<sqlite3.Cursor at 0x21847c40a40>"
      ]
     },
     "execution_count": 8,
     "metadata": {},
     "output_type": "execute_result"
    }
   ],
   "source": [
    "cursor.execute(\n",
    "    ''' DROP TABLE IF EXISTS Record '''\n",
    ")\n",
    "\n",
    "cursor.execute(\n",
    "    '''\n",
    "    CREATE TABLE Record(\n",
    "        id INT PRIMARY KEY NOT NULL,\n",
    "        reader_id INT REFERENCES Readers(id) NOT NULL,\n",
    "        book_id INT REFERENCES Books(id) NOT NULL,\n",
    "        taking_date TEXT,\n",
    "        returning_date TEXT\n",
    "    )\n",
    "    '''\n",
    ")\n",
    "\n",
    "cursor.execute(\n",
    "    '''\n",
    "    INSERT INTO Record VALUES\n",
    "    (1, 3, 4, '1842-02-14', '1842-07-01'),\n",
    "    (2, 4, 4, '1996-10-26', NULL),\n",
    "    (3, 1, 2, '2006-06-13', '2006-06-14'),\n",
    "    (4, 1, 1, '2006-06-14', '2006-06-15'),\n",
    "    (5, 1, 3, '2006-06-15', '2006-07-20'),\n",
    "    (6, 2, 5, '1985-10-11', '1987-12-25'),\n",
    "    (7, 5, 3, '2001-03-15', NULL),\n",
    "    (8, 5, 3, '2002-09-19', '2002-09-25')\n",
    "    '''\n",
    ")\n"
   ]
  },
  {
   "cell_type": "code",
   "execution_count": 10,
   "metadata": {
    "id": "3I5OpWDhTwm2"
   },
   "outputs": [],
   "source": [
    "def select_books():\n",
    "    a = []\n",
    "    for row in cursor.execute(\"SELECT * FROM Book\"):\n",
    "        a.append(row)\n",
    "    return a"
   ]
  },
  {
   "cell_type": "code",
   "execution_count": 11,
   "metadata": {
    "colab": {
     "base_uri": "https://localhost:8080/"
    },
    "id": "-qbu7sSbWuiL",
    "outputId": "714c0c45-7908-4794-c6e4-1dd17e80ea74"
   },
   "outputs": [
    {
     "data": {
      "text/plain": [
       "[(1, \"Harry Potter and the Philosopher's Stone\", 'J. K. Rowling', 1997),\n",
       " (2,\n",
       "  'Методы решения задач в общем курсе физики, Механика',\n",
       "  'Корявов В.П.',\n",
       "  2007),\n",
       " (3, 'Batman: Gotham by Gaslight', 'Brian Augustyn, Mike Mignola', 1989),\n",
       " (4, 'Мёртвые души', 'Н. В. Гоголь', 1842),\n",
       " (5, 'The Running Man', 'Richard Bachman', 1982)]"
      ]
     },
     "execution_count": 11,
     "metadata": {},
     "output_type": "execute_result"
    }
   ],
   "source": [
    "select_books()"
   ]
  },
  {
   "cell_type": "code",
   "execution_count": 12,
   "metadata": {
    "id": "3Ku-Hd_vWwyc"
   },
   "outputs": [],
   "source": [
    "def select_readers():\n",
    "    a = []\n",
    "    for row in cursor.execute(\"SELECT * FROM Reader\"):\n",
    "        a.append(row)\n",
    "    return a"
   ]
  },
  {
   "cell_type": "code",
   "execution_count": 13,
   "metadata": {
    "colab": {
     "base_uri": "https://localhost:8080/"
    },
    "id": "RMStOEmpXz5q",
    "outputId": "7acb15be-6e20-4b3b-d2bf-4e2eae5c2f62"
   },
   "outputs": [
    {
     "data": {
      "text/plain": [
       "[(1, 'V.V. Petrovich'),\n",
       " (2, 'Alexanderr'),\n",
       " (3, 'Arkadiy Svidrigaylov'),\n",
       " (4, 'Vitalya'),\n",
       " (5, 'Noname')]"
      ]
     },
     "execution_count": 13,
     "metadata": {},
     "output_type": "execute_result"
    }
   ],
   "source": [
    "select_readers()"
   ]
  },
  {
   "cell_type": "code",
   "execution_count": 14,
   "metadata": {
    "id": "uXyJjY72X2HJ"
   },
   "outputs": [],
   "source": [
    "def insert_book(id, name, author, year, conn = connection): \n",
    "    cursor.execute(\n",
    "    \"INSERT INTO Book VALUES (?, ?, ?, ?)\", (id, name, author, year)\n",
    "    )\n",
    "    conn.commit()"
   ]
  },
  {
   "cell_type": "code",
   "execution_count": 15,
   "metadata": {
    "id": "LnbTHvmvbAgh"
   },
   "outputs": [],
   "source": [
    "insert_book(7, 'mem', 'kek', 2001)"
   ]
  },
  {
   "cell_type": "code",
   "execution_count": 16,
   "metadata": {
    "colab": {
     "base_uri": "https://localhost:8080/"
    },
    "id": "2AtGQZApbKvv",
    "outputId": "8db29a31-daaa-4e7a-a9fa-370afa1f3e3b"
   },
   "outputs": [
    {
     "data": {
      "text/plain": [
       "[(1, \"Harry Potter and the Philosopher's Stone\", 'J. K. Rowling', 1997),\n",
       " (2,\n",
       "  'Методы решения задач в общем курсе физики, Механика',\n",
       "  'Корявов В.П.',\n",
       "  2007),\n",
       " (3, 'Batman: Gotham by Gaslight', 'Brian Augustyn, Mike Mignola', 1989),\n",
       " (4, 'Мёртвые души', 'Н. В. Гоголь', 1842),\n",
       " (5, 'The Running Man', 'Richard Bachman', 1982),\n",
       " (7, 'mem', 'kek', 2001)]"
      ]
     },
     "execution_count": 16,
     "metadata": {},
     "output_type": "execute_result"
    }
   ],
   "source": [
    "select_books()"
   ]
  },
  {
   "cell_type": "code",
   "execution_count": 17,
   "metadata": {
    "id": "2AHRY5LCe9Ze"
   },
   "outputs": [],
   "source": [
    "def insert_reader(id, name, conn = connection): \n",
    "    cursor.execute(\n",
    "    \"INSERT INTO Reader VALUES (?, ?)\", (id, name)\n",
    "    )\n",
    "    conn.commit()"
   ]
  },
  {
   "cell_type": "code",
   "execution_count": 18,
   "metadata": {
    "id": "_xXQr33TfjGl"
   },
   "outputs": [],
   "source": [
    "insert_reader(6, 'Liza')"
   ]
  },
  {
   "cell_type": "code",
   "execution_count": 19,
   "metadata": {
    "colab": {
     "base_uri": "https://localhost:8080/"
    },
    "id": "ew9A72CTfSzz",
    "outputId": "f3d2d5b8-21b8-4788-ae75-4105b8fbcf9b"
   },
   "outputs": [
    {
     "data": {
      "text/plain": [
       "[(1, 'V.V. Petrovich'),\n",
       " (2, 'Alexanderr'),\n",
       " (3, 'Arkadiy Svidrigaylov'),\n",
       " (4, 'Vitalya'),\n",
       " (5, 'Noname'),\n",
       " (6, 'Liza')]"
      ]
     },
     "execution_count": 19,
     "metadata": {},
     "output_type": "execute_result"
    }
   ],
   "source": [
    "select_readers()"
   ]
  },
  {
   "cell_type": "code",
   "execution_count": 20,
   "metadata": {
    "id": "Bd1KrWg6jB43"
   },
   "outputs": [],
   "source": [
    "def select_records():\n",
    "    a = []\n",
    "    for row in cursor.execute(\"SELECT * FROM Record\"):\n",
    "        a.append(row)\n",
    "    return a"
   ]
  },
  {
   "cell_type": "code",
   "execution_count": 21,
   "metadata": {
    "id": "O0XTM3H8fXyP"
   },
   "outputs": [],
   "source": [
    "def issue_book(id, reader_id, book_id, returning_date = None, conn=connection):\n",
    "    cursor.execute(\n",
    "    \"INSERT INTO Record VALUES (?,?,?,?,?)\", (id, reader_id, book_id, str(date.today()), returning_date)\n",
    "    )\n",
    "    conn.commit()"
   ]
  },
  {
   "cell_type": "code",
   "execution_count": 22,
   "metadata": {
    "colab": {
     "base_uri": "https://localhost:8080/"
    },
    "id": "51OsIUuri3nv",
    "outputId": "dc63ce6f-d3a3-4c4c-a789-192c75fa49aa"
   },
   "outputs": [
    {
     "data": {
      "text/plain": [
       "[(1, 3, 4, '1842-02-14', '1842-07-01'),\n",
       " (2, 4, 4, '1996-10-26', None),\n",
       " (3, 1, 2, '2006-06-13', '2006-06-14'),\n",
       " (4, 1, 1, '2006-06-14', '2006-06-15'),\n",
       " (5, 1, 3, '2006-06-15', '2006-07-20'),\n",
       " (6, 2, 5, '1985-10-11', '1987-12-25'),\n",
       " (7, 5, 3, '2001-03-15', None),\n",
       " (8, 5, 3, '2002-09-19', '2002-09-25')]"
      ]
     },
     "execution_count": 22,
     "metadata": {},
     "output_type": "execute_result"
    }
   ],
   "source": [
    "select_records()"
   ]
  },
  {
   "cell_type": "code",
   "execution_count": 23,
   "metadata": {
    "colab": {
     "base_uri": "https://localhost:8080/"
    },
    "id": "ku30jXADi0aC",
    "outputId": "ce8e5754-0b58-41b9-8e83-907f72e3864c"
   },
   "outputs": [
    {
     "data": {
      "text/plain": [
       "[(1, 3, 4, '1842-02-14', '1842-07-01'),\n",
       " (2, 4, 4, '1996-10-26', None),\n",
       " (3, 1, 2, '2006-06-13', '2006-06-14'),\n",
       " (4, 1, 1, '2006-06-14', '2006-06-15'),\n",
       " (5, 1, 3, '2006-06-15', '2006-07-20'),\n",
       " (6, 2, 5, '1985-10-11', '1987-12-25'),\n",
       " (7, 5, 3, '2001-03-15', None),\n",
       " (8, 5, 3, '2002-09-19', '2002-09-25'),\n",
       " (9, 2, 3, '2022-03-23', None)]"
      ]
     },
     "execution_count": 23,
     "metadata": {},
     "output_type": "execute_result"
    }
   ],
   "source": [
    "issue_book(9, 2, 3)\n",
    "select_records()"
   ]
  },
  {
   "cell_type": "code",
   "execution_count": 24,
   "metadata": {
    "id": "u4GFSjfajgu4"
   },
   "outputs": [],
   "source": [
    "def take_book(id, conn=connection):\n",
    "    cursor.execute(\"UPDATE Record SET returning_date = (?) where id = (?)\", (str(date.today()), id))\n",
    "    conn.commit()"
   ]
  },
  {
   "cell_type": "code",
   "execution_count": 25,
   "metadata": {
    "colab": {
     "base_uri": "https://localhost:8080/"
    },
    "id": "KkpKGqmibmFR",
    "outputId": "465d41b9-8627-4f09-ebc5-dc77c5d37f45"
   },
   "outputs": [
    {
     "data": {
      "text/plain": [
       "[(1, 3, 4, '1842-02-14', '1842-07-01'),\n",
       " (2, 4, 4, '1996-10-26', None),\n",
       " (3, 1, 2, '2006-06-13', '2006-06-14'),\n",
       " (4, 1, 1, '2006-06-14', '2006-06-15'),\n",
       " (5, 1, 3, '2006-06-15', '2006-07-20'),\n",
       " (6, 2, 5, '1985-10-11', '1987-12-25'),\n",
       " (7, 5, 3, '2001-03-15', None),\n",
       " (8, 5, 3, '2002-09-19', '2002-09-25'),\n",
       " (9, 2, 3, '2022-03-23', '2022-03-23')]"
      ]
     },
     "execution_count": 25,
     "metadata": {},
     "output_type": "execute_result"
    }
   ],
   "source": [
    "take_book(9)\n",
    "select_records()"
   ]
  },
  {
   "cell_type": "code",
   "execution_count": null,
   "metadata": {
    "id": "9aDEZapkbrXe"
   },
   "outputs": [],
   "source": []
  }
 ],
 "metadata": {
  "colab": {
   "collapsed_sections": [],
   "name": "Для Лизочки:).ipynb",
   "provenance": [],
   "toc_visible": true
  },
  "kernelspec": {
   "display_name": "Python 3",
   "language": "python",
   "name": "python3"
  },
  "language_info": {
   "codemirror_mode": {
    "name": "ipython",
    "version": 3
   },
   "file_extension": ".py",
   "mimetype": "text/x-python",
   "name": "python",
   "nbconvert_exporter": "python",
   "pygments_lexer": "ipython3",
   "version": "3.7.3"
  }
 },
 "nbformat": 4,
 "nbformat_minor": 1
}
